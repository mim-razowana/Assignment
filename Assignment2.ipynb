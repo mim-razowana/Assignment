{
  "nbformat": 4,
  "nbformat_minor": 0,
  "metadata": {
    "colab": {
      "provenance": [],
      "gpuType": "T4"
    },
    "kernelspec": {
      "name": "python3",
      "display_name": "Python 3"
    },
    "language_info": {
      "name": "python"
    },
    "accelerator": "GPU",
    "gpuClass": "standard"
  },
  "cells": [
    {
      "cell_type": "markdown",
      "source": [
        "# 1. Take values of the length & breadth of a rectangle from user input and check if it is square or not."
      ],
      "metadata": {
        "id": "X3TSuchngLZm"
      }
    },
    {
      "cell_type": "code",
      "source": [
        "a=int(input(\"Enter length : \"))\n",
        "b=int(input(\"Enter breadth : \"))\n",
        "if a==b:\n",
        "  print('square')\n",
        "else:\n",
        "  print('not square')"
      ],
      "metadata": {
        "colab": {
          "base_uri": "https://localhost:8080/"
        },
        "id": "R1XcZt2CQcEY",
        "outputId": "5f66b3c5-fa5b-4062-f3bf-f2fa50bf72d9"
      },
      "execution_count": null,
      "outputs": [
        {
          "output_type": "stream",
          "name": "stdout",
          "text": [
            "20\n",
            "40\n",
            "not square\n"
          ]
        }
      ]
    },
    {
      "cell_type": "markdown",
      "source": [
        "2. Take three integer values from the user and print the greatest among them."
      ],
      "metadata": {
        "id": "7P8jgk6ygQGg"
      }
    },
    {
      "cell_type": "code",
      "source": [
        "x=int(input())\n",
        "y=int(input())\n",
        "z=int(input())\n",
        "if x>z and x>y:\n",
        "  print('The biggest number is:',x)\n",
        "elif y>z and y>x:\n",
        "  print('The biggest number is:',y)\n",
        "else:\n",
        "  print('The biggest number is:',z)"
      ],
      "metadata": {
        "colab": {
          "base_uri": "https://localhost:8080/"
        },
        "id": "Si6v7_pyR_Fu",
        "outputId": "d6a239a0-8716-44f3-a6bd-9a42313c778c"
      },
      "execution_count": null,
      "outputs": [
        {
          "output_type": "stream",
          "name": "stdout",
          "text": [
            "4\n",
            "2\n",
            "7\n",
            "The biggest number is: 7\n"
          ]
        }
      ]
    },
    {
      "cell_type": "markdown",
      "source": [
        "3. A student will not be allowed to sit in an exam if his/her attendance is less than 75%."
      ],
      "metadata": {
        "id": "BcwoquDYgbUX"
      }
    },
    {
      "cell_type": "code",
      "source": [
        "Total_classes=int(input())\n",
        "Class_attend=int(input())\n",
        "\n",
        "attendance = (Class_attend / Total_classes) * 100\n",
        "\n",
        "if attendance < 75:\n",
        "    print(\"Not allowed to sit in the exam\")\n",
        "\n",
        "else:\n",
        "    print(\"Allowed to sit in the exam\")"
      ],
      "metadata": {
        "colab": {
          "base_uri": "https://localhost:8080/"
        },
        "id": "hDZe7Se-Vl4t",
        "outputId": "f7f7206e-332a-4370-c693-959bfbe50ff6"
      },
      "execution_count": 2,
      "outputs": [
        {
          "output_type": "stream",
          "name": "stdout",
          "text": [
            "20\n",
            "16\n",
            "Allowed to sit in the exam\n"
          ]
        }
      ]
    },
    {
      "cell_type": "markdown",
      "source": [
        "# 4. A school has the following rules for the grading system:"
      ],
      "metadata": {
        "id": "BBdtS1EkiItm"
      }
    },
    {
      "cell_type": "code",
      "source": [
        "M=int(input(\"Enter your number: \"))\n",
        "if 25>M:\n",
        "  print('F')\n",
        "elif 80<= M <=89:\n",
        "  print('A')\n",
        "elif 60<= M <=79:\n",
        "  print('B')\n",
        "elif 50<= M <=59:\n",
        "  print('C')\n",
        "elif 45<= M <=49:\n",
        "  print('D')\n",
        "elif 25<= M <=44:\n",
        "  print('E')\n",
        "else:\n",
        "  print('A+')\n",
        "\n",
        "\n"
      ],
      "metadata": {
        "id": "xSDqAzMRW1w2",
        "colab": {
          "base_uri": "https://localhost:8080/"
        },
        "outputId": "dfba8d47-907b-44d5-b80f-bed8ce5ea48d"
      },
      "execution_count": 9,
      "outputs": [
        {
          "output_type": "stream",
          "name": "stdout",
          "text": [
            "Enter your number: 34\n",
            "E\n"
          ]
        }
      ]
    },
    {
      "cell_type": "markdown",
      "source": [
        "# 5. Print the following pattern using for and while loop."
      ],
      "metadata": {
        "id": "YukL9M79jGY8"
      }
    },
    {
      "cell_type": "code",
      "source": [
        "for i in range(8,4,-1):\n",
        "        for k in range(1,i):\n",
        "            print(k, end=\" \")\n",
        "        print()"
      ],
      "metadata": {
        "colab": {
          "base_uri": "https://localhost:8080/"
        },
        "id": "A_6ttEIPjFcc",
        "outputId": "4e747fb6-1e95-407e-9362-d20804689d52"
      },
      "execution_count": 18,
      "outputs": [
        {
          "output_type": "stream",
          "name": "stdout",
          "text": [
            "1 2 3 4 5 6 7 \n",
            "1 2 3 4 5 6 \n",
            "1 2 3 4 5 \n",
            "1 2 3 4 \n"
          ]
        }
      ]
    },
    {
      "cell_type": "code",
      "source": [
        "i = 7\n",
        "while i > 3:\n",
        "    j = 1\n",
        "    while j <= i:\n",
        "        print(j, end=\" \")\n",
        "        j += 1\n",
        "    print()\n",
        "    i -= 1"
      ],
      "metadata": {
        "colab": {
          "base_uri": "https://localhost:8080/"
        },
        "id": "sCZDTLByj55E",
        "outputId": "2c795d1d-362b-4249-985f-c2058b345b63"
      },
      "execution_count": 22,
      "outputs": [
        {
          "output_type": "stream",
          "name": "stdout",
          "text": [
            "1 2 3 4 5 6 7 \n",
            "1 2 3 4 5 6 \n",
            "1 2 3 4 5 \n",
            "1 2 3 4 \n"
          ]
        }
      ]
    },
    {
      "cell_type": "markdown",
      "source": [
        "# 6. Display numbers from -100 to -10 using for loop."
      ],
      "metadata": {
        "id": "yCC56phOkKYo"
      }
    },
    {
      "cell_type": "code",
      "source": [
        "for i in range(-100, -9):\n",
        "    print(i)"
      ],
      "metadata": {
        "colab": {
          "base_uri": "https://localhost:8080/"
        },
        "id": "f5ZzHBY7kOWD",
        "outputId": "07aa6c8c-f364-4be2-b31b-df86b513c795"
      },
      "execution_count": 24,
      "outputs": [
        {
          "output_type": "stream",
          "name": "stdout",
          "text": [
            "-100\n",
            "-99\n",
            "-98\n",
            "-97\n",
            "-96\n",
            "-95\n",
            "-94\n",
            "-93\n",
            "-92\n",
            "-91\n",
            "-90\n",
            "-89\n",
            "-88\n",
            "-87\n",
            "-86\n",
            "-85\n",
            "-84\n",
            "-83\n",
            "-82\n",
            "-81\n",
            "-80\n",
            "-79\n",
            "-78\n",
            "-77\n",
            "-76\n",
            "-75\n",
            "-74\n",
            "-73\n",
            "-72\n",
            "-71\n",
            "-70\n",
            "-69\n",
            "-68\n",
            "-67\n",
            "-66\n",
            "-65\n",
            "-64\n",
            "-63\n",
            "-62\n",
            "-61\n",
            "-60\n",
            "-59\n",
            "-58\n",
            "-57\n",
            "-56\n",
            "-55\n",
            "-54\n",
            "-53\n",
            "-52\n",
            "-51\n",
            "-50\n",
            "-49\n",
            "-48\n",
            "-47\n",
            "-46\n",
            "-45\n",
            "-44\n",
            "-43\n",
            "-42\n",
            "-41\n",
            "-40\n",
            "-39\n",
            "-38\n",
            "-37\n",
            "-36\n",
            "-35\n",
            "-34\n",
            "-33\n",
            "-32\n",
            "-31\n",
            "-30\n",
            "-29\n",
            "-28\n",
            "-27\n",
            "-26\n",
            "-25\n",
            "-24\n",
            "-23\n",
            "-22\n",
            "-21\n",
            "-20\n",
            "-19\n",
            "-18\n",
            "-17\n",
            "-16\n",
            "-15\n",
            "-14\n",
            "-13\n",
            "-12\n",
            "-11\n",
            "-10\n"
          ]
        }
      ]
    },
    {
      "cell_type": "markdown",
      "source": [
        "# 7. Write a program to sum all prime numbers within a range of 10 to 1000."
      ],
      "metadata": {
        "id": "tn8aXF_XlPW2"
      }
    },
    {
      "cell_type": "code",
      "source": [
        "first_num = 10\n",
        "last_num = 1000\n",
        "sum = 0\n",
        "\n",
        "for number in range(first_num, last_num + 1):\n",
        "    if number > 1:\n",
        "        is_prime = True\n",
        "\n",
        "        for i in range(2, int(number ** 0.5) + 1):\n",
        "            if number % i == 0:\n",
        "                is_prime = False\n",
        "                break\n",
        "\n",
        "        if is_prime:\n",
        "            sum += number\n",
        "\n",
        "print(f\"Sum of prime numbers from {first_num} to {last_num} is: {sum}\")"
      ],
      "metadata": {
        "colab": {
          "base_uri": "https://localhost:8080/"
        },
        "id": "rR4ptpWckYx7",
        "outputId": "d1d9a36b-23aa-4699-f157-dabab5adc78b"
      },
      "execution_count": 26,
      "outputs": [
        {
          "output_type": "stream",
          "name": "stdout",
          "text": [
            "Sum of prime numbers from 10 to 1000 is: 76110\n"
          ]
        }
      ]
    },
    {
      "cell_type": "markdown",
      "source": [
        "# 8.** Find the factorial of an n!** (Hint, n=7: 7*6*5*4*3*2*1)."
      ],
      "metadata": {
        "id": "ZTTBWc1jl9e4"
      }
    },
    {
      "cell_type": "code",
      "source": [
        "\n",
        "num =int(input())\n",
        "factorial = 1\n",
        "\n",
        "if num < 0:\n",
        "   print(\"Sorry, factorial does not exist for negative numbers\")\n",
        "elif num == 0:\n",
        "   print(\"The factorial of 0 is 1\")\n",
        "else:\n",
        "   for i in range(1,num + 1):\n",
        "       factorial = factorial*i\n",
        "   print(\"The factorial of\",num,\"is\",factorial)"
      ],
      "metadata": {
        "colab": {
          "base_uri": "https://localhost:8080/"
        },
        "id": "HT61TFjtl2eE",
        "outputId": "a5416f9f-d4a5-4f08-ac24-4e2fac5c0a6b"
      },
      "execution_count": 27,
      "outputs": [
        {
          "output_type": "stream",
          "name": "stdout",
          "text": [
            "7\n",
            "The factorial of 7 is 5040\n"
          ]
        }
      ]
    },
    {
      "cell_type": "markdown",
      "source": [],
      "metadata": {
        "id": "MEoHzpOgm4oF"
      }
    },
    {
      "cell_type": "markdown",
      "source": [
        "# 9. Reverse a given integer number 27956240710."
      ],
      "metadata": {
        "id": "1AzH6mw8nm_L"
      }
    },
    {
      "cell_type": "code",
      "source": [
        "num = 2795624071\n",
        "reversed_num = 0\n",
        "\n",
        "while num != 0:\n",
        "    digit = num % 10\n",
        "    reversed_num = reversed_num * 10 + digit\n",
        "    num //= 10\n",
        "\n",
        "print(\"Reversed Number: \" + str(reversed_num))"
      ],
      "metadata": {
        "colab": {
          "base_uri": "https://localhost:8080/"
        },
        "id": "hrtjH9L0m5DV",
        "outputId": "f2c50af7-13eb-4a9a-f43f-9dabf18bb778"
      },
      "execution_count": 29,
      "outputs": [
        {
          "output_type": "stream",
          "name": "stdout",
          "text": [
            "Reversed Number: 1704265972\n"
          ]
        }
      ]
    },
    {
      "cell_type": "markdown",
      "source": [
        "# 10. Print the following pattern using for and while loop."
      ],
      "metadata": {
        "id": "cG14j_3uns-_"
      }
    },
    {
      "cell_type": "code",
      "source": [
        "num = 3\n",
        "i=0\n",
        "if i==0:\n",
        "    for i in range(num):\n",
        "        print('#',end=' ')\n",
        "    print()\n",
        "\n",
        "for j in range(num+1,1,-1):\n",
        "    for k in range(j):\n",
        "        print('#',end=' ')\n",
        "    print()"
      ],
      "metadata": {
        "colab": {
          "base_uri": "https://localhost:8080/"
        },
        "id": "ltY_LIrZoG4r",
        "outputId": "93935e1f-a277-47e9-dc80-717b7824efea"
      },
      "execution_count": 31,
      "outputs": [
        {
          "output_type": "stream",
          "name": "stdout",
          "text": [
            "# # # \n",
            "# # # # \n",
            "# # # \n",
            "# # \n"
          ]
        }
      ]
    },
    {
      "cell_type": "code",
      "source": [
        "num = 3\n",
        "i = 0\n",
        "while i < num:\n",
        "    print(\"#\", end=\" \")\n",
        "    i += 1\n",
        "print()\n",
        "\n",
        "j = num + 1\n",
        "while j > 1:\n",
        "    k = 0\n",
        "    while k < j:\n",
        "        print(\"#\", end=\" \")\n",
        "        k += 1\n",
        "    print()\n",
        "    j -= 1"
      ],
      "metadata": {
        "colab": {
          "base_uri": "https://localhost:8080/"
        },
        "id": "IkIX0IkeoSSt",
        "outputId": "a50d763c-2e7f-4016-bfb9-cdfede29fbed"
      },
      "execution_count": 32,
      "outputs": [
        {
          "output_type": "stream",
          "name": "stdout",
          "text": [
            "# # # \n",
            "# # # # \n",
            "# # # \n",
            "# # \n"
          ]
        }
      ]
    },
    {
      "cell_type": "markdown",
      "source": [
        "# 11. Display the Fibonacci series of 15 elements using the for and while loop."
      ],
      "metadata": {
        "id": "c1dVNGTGnytl"
      }
    },
    {
      "cell_type": "code",
      "source": [
        "n = 15\n",
        "fibonacci_series = [0, 1]\n",
        "\n",
        "for i in range(2, n):\n",
        "    next_element = fibonacci_series[i-1] + fibonacci_series[i-2]\n",
        "    fibonacci_series.append(next_element)\n",
        "\n",
        "print(fibonacci_series)"
      ],
      "metadata": {
        "colab": {
          "base_uri": "https://localhost:8080/"
        },
        "id": "pKEFaKiboHbv",
        "outputId": "bfed05ed-825c-4c2f-ca00-eb1c4d6c5ffa"
      },
      "execution_count": 33,
      "outputs": [
        {
          "output_type": "stream",
          "name": "stdout",
          "text": [
            "[0, 1, 1, 2, 3, 5, 8, 13, 21, 34, 55, 89, 144, 233, 377]\n"
          ]
        }
      ]
    },
    {
      "cell_type": "code",
      "source": [
        "n = 15\n",
        "fibonacci_series = [0, 1]\n",
        "\n",
        "i = 2\n",
        "while i < n:\n",
        "    next_element = fibonacci_series[i-1] + fibonacci_series[i-2]\n",
        "    fibonacci_series.append(next_element)\n",
        "    i += 1\n",
        "\n",
        "print(fibonacci_series)"
      ],
      "metadata": {
        "id": "Y83VkT5epgq9"
      },
      "execution_count": null,
      "outputs": []
    },
    {
      "cell_type": "markdown",
      "source": [
        "# 12. Remove 2 and add 3 to the list and replace True with False."
      ],
      "metadata": {
        "id": "GsYBRSewn23d"
      }
    },
    {
      "cell_type": "code",
      "source": [
        "Li = [1, 3, 5, [2, 3], True]\n",
        "\n",
        "Li[3].remove(2)\n",
        "Li[3].append(3)\n",
        "\n",
        "Li[-1] = False\n",
        "\n",
        "print(Li)"
      ],
      "metadata": {
        "colab": {
          "base_uri": "https://localhost:8080/"
        },
        "id": "-KqeT1eIpn9G",
        "outputId": "367d9cee-9328-4f4c-a37f-1140aa3483e3"
      },
      "execution_count": 34,
      "outputs": [
        {
          "output_type": "stream",
          "name": "stdout",
          "text": [
            "[1, 3, 5, [3, 3], False]\n"
          ]
        }
      ]
    },
    {
      "cell_type": "markdown",
      "source": [
        "# 13. Find the intersection (common) of two sets."
      ],
      "metadata": {
        "id": "cd-pTllspop_"
      }
    },
    {
      "cell_type": "code",
      "source": [
        "S1 = {1, 4, 6, 8}\n",
        "S2 = {True, 1, 2, 10}\n",
        "\n",
        "intersection_set = S1.intersection(S2)\n",
        "\n",
        "print(intersection_set)"
      ],
      "metadata": {
        "colab": {
          "base_uri": "https://localhost:8080/"
        },
        "id": "7jABKZIyprc0",
        "outputId": "9ab0c18e-2894-40c3-ca9e-51f5ae93ae8a"
      },
      "execution_count": 35,
      "outputs": [
        {
          "output_type": "stream",
          "name": "stdout",
          "text": [
            "{True}\n"
          ]
        }
      ]
    },
    {
      "cell_type": "markdown",
      "source": [
        "# 14. Input a list from the user then Remove duplicates from a list and create a set and find the max"
      ],
      "metadata": {
        "id": "Po08eoV1pr1s"
      }
    },
    {
      "cell_type": "code",
      "source": [
        "user_input = [1, 9, 3, 4, 5, 4, 200, 54]\n",
        "\n",
        "unique_numbers = list(set(user_input))\n",
        "\n",
        "max_number = max(unique_numbers)\n",
        "\n",
        "print(\"without duplicates numbers:\", unique_numbers)\n",
        "print(\"Maximum number:\", max_number)"
      ],
      "metadata": {
        "colab": {
          "base_uri": "https://localhost:8080/"
        },
        "id": "rRw52x00puuL",
        "outputId": "003c6ab4-6979-463e-fdf6-8bfd2f7d0966"
      },
      "execution_count": 38,
      "outputs": [
        {
          "output_type": "stream",
          "name": "stdout",
          "text": [
            "without duplicates numbers: [1, 3, 4, 5, 200, 9, 54]\n",
            "Maximum number: 200\n"
          ]
        }
      ]
    },
    {
      "cell_type": "markdown",
      "source": [
        "# 15. Rename the key of a dictionary."
      ],
      "metadata": {
        "id": "MT7VaaOEpvFU"
      }
    },
    {
      "cell_type": "code",
      "source": [
        "Dict = {\"name\": \"Shakil\", \"age\": 27, \"city\": \"Berlin\", \"country\": \"Germany\"}\n",
        "\n",
        "Dict[\"region\"] = Dict.pop(\"country\")\n",
        "\n",
        "print(Dict)"
      ],
      "metadata": {
        "colab": {
          "base_uri": "https://localhost:8080/"
        },
        "id": "5_-8lsEop0Cc",
        "outputId": "80805298-c71d-4a1c-d9df-3bf73c3d288d"
      },
      "execution_count": 39,
      "outputs": [
        {
          "output_type": "stream",
          "name": "stdout",
          "text": [
            "{'name': 'Shakil', 'age': 27, 'city': 'Berlin', 'region': 'Germany'}\n"
          ]
        }
      ]
    },
    {
      "cell_type": "markdown",
      "source": [
        "# 16. Creating a data frame using the list."
      ],
      "metadata": {
        "id": "T1lkVrqsp0Pc"
      }
    },
    {
      "cell_type": "code",
      "source": [
        "import pandas as pd\n",
        "\n",
        "num = [10, 100, 300]\n",
        "df = pd.DataFrame(num, columns=['number'])\n",
        "\n",
        "print(df)"
      ],
      "metadata": {
        "colab": {
          "base_uri": "https://localhost:8080/"
        },
        "id": "FCglMVpXp982",
        "outputId": "767b79c8-b755-4235-9b9c-ef9446204a25"
      },
      "execution_count": 40,
      "outputs": [
        {
          "output_type": "stream",
          "name": "stdout",
          "text": [
            "   number\n",
            "0      10\n",
            "1     100\n",
            "2     300\n"
          ]
        }
      ]
    },
    {
      "cell_type": "markdown",
      "source": [
        "# 17. Change the value of a key in a given dictionary."
      ],
      "metadata": {
        "id": "FBtThNzpp_ae"
      }
    },
    {
      "cell_type": "code",
      "source": [
        "Dict = {\"name\": \"Shakil\", \"age\": 27, \"city\": \"Berlin\", \"country\": \"Germany\"}\n",
        "\n",
        "Dict[\"age\"] = 28\n",
        "\n",
        "print(Dict)"
      ],
      "metadata": {
        "colab": {
          "base_uri": "https://localhost:8080/"
        },
        "id": "K0xE9aclrYPz",
        "outputId": "02c1fa66-2a1b-4627-e749-b68a8d585cbd"
      },
      "execution_count": 41,
      "outputs": [
        {
          "output_type": "stream",
          "name": "stdout",
          "text": [
            "{'name': 'Shakil', 'age': 28, 'city': 'Berlin', 'country': 'Germany'}\n"
          ]
        }
      ]
    }
  ]
}